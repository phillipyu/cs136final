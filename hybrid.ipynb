{
 "cells": [
  {
   "cell_type": "code",
   "execution_count": 141,
   "metadata": {},
   "outputs": [],
   "source": [
    "import pandas as pd\n",
    "import numpy as np\n",
    "import time\n",
    "from cuisines import cuisines\n",
    "from surprise import AlgoBase, KNNWithMeans\n",
    "from surprise import Dataset, Reader\n",
    "from surprise import accuracy\n",
    "from surprise.model_selection import train_test_split, cross_validate\n",
    "from sklearn.metrics.pairwise import cosine_similarity"
   ]
  },
  {
   "cell_type": "code",
   "execution_count": 86,
   "metadata": {},
   "outputs": [
    {
     "data": {
      "text/html": [
       "<div>\n",
       "<style scoped>\n",
       "    .dataframe tbody tr th:only-of-type {\n",
       "        vertical-align: middle;\n",
       "    }\n",
       "\n",
       "    .dataframe tbody tr th {\n",
       "        vertical-align: top;\n",
       "    }\n",
       "\n",
       "    .dataframe thead th {\n",
       "        text-align: right;\n",
       "    }\n",
       "</style>\n",
       "<table border=\"1\" class=\"dataframe\">\n",
       "  <thead>\n",
       "    <tr style=\"text-align: right;\">\n",
       "      <th></th>\n",
       "      <th>business_id</th>\n",
       "      <th>name</th>\n",
       "      <th>stars</th>\n",
       "      <th>latitude</th>\n",
       "      <th>longitude</th>\n",
       "      <th>attributes</th>\n",
       "      <th>categories</th>\n",
       "      <th>cuisines</th>\n",
       "      <th>price_range</th>\n",
       "      <th>noise_level</th>\n",
       "      <th>good_for_kids</th>\n",
       "      <th>good_for_groups</th>\n",
       "      <th>ambience</th>\n",
       "    </tr>\n",
       "  </thead>\n",
       "  <tbody>\n",
       "    <tr>\n",
       "      <th>0</th>\n",
       "      <td>vJIuDBdu01vCA8y1fwR1OQ</td>\n",
       "      <td>CakesbyToi</td>\n",
       "      <td>1.5</td>\n",
       "      <td>36.1922841</td>\n",
       "      <td>-115.159272</td>\n",
       "      <td>{'BikeParking': 'True', 'BusinessAcceptsCredit...</td>\n",
       "      <td>American (Traditional), Food, Bakeries, Restau...</td>\n",
       "      <td>American (Traditional),Bakeries</td>\n",
       "      <td>0</td>\n",
       "      <td>0</td>\n",
       "      <td>0</td>\n",
       "      <td>0</td>\n",
       "      <td>0</td>\n",
       "    </tr>\n",
       "    <tr>\n",
       "      <th>1</th>\n",
       "      <td>kgffcoxT6BQp-gJ-UQ7Czw</td>\n",
       "      <td>Subway</td>\n",
       "      <td>2.5</td>\n",
       "      <td>36.2017936</td>\n",
       "      <td>-115.281981</td>\n",
       "      <td>{'Alcohol': 'none', 'Ambience': \"{'romantic': ...</td>\n",
       "      <td>Fast Food, Restaurants, Sandwiches</td>\n",
       "      <td>Fast Food,Sandwiches</td>\n",
       "      <td>1</td>\n",
       "      <td>2</td>\n",
       "      <td>1</td>\n",
       "      <td>1</td>\n",
       "      <td>100000000</td>\n",
       "    </tr>\n",
       "    <tr>\n",
       "      <th>2</th>\n",
       "      <td>0jtRI7hVMpQHpUVtUy4ITw</td>\n",
       "      <td>Omelet House Summerlin</td>\n",
       "      <td>4.0</td>\n",
       "      <td>36.2019904392</td>\n",
       "      <td>-115.283122</td>\n",
       "      <td>{'Alcohol': 'beer_and_wine', 'Ambience': \"{'ro...</td>\n",
       "      <td>Beer, Wine &amp; Spirits, Italian, Food, American ...</td>\n",
       "      <td>Beer,Wine &amp; Spirits,Italian,American (Traditio...</td>\n",
       "      <td>2</td>\n",
       "      <td>2</td>\n",
       "      <td>1</td>\n",
       "      <td>1</td>\n",
       "      <td>100000000</td>\n",
       "    </tr>\n",
       "    <tr>\n",
       "      <th>3</th>\n",
       "      <td>JJEx5wIqs9iGGATOagE8Sg</td>\n",
       "      <td>Baja Fresh Mexican Grill</td>\n",
       "      <td>2.0</td>\n",
       "      <td>36.271169</td>\n",
       "      <td>-115.267759</td>\n",
       "      <td>{'HasTV': 'False', 'RestaurantsReservations': ...</td>\n",
       "      <td>Mexican, Restaurants</td>\n",
       "      <td>Mexican</td>\n",
       "      <td>0</td>\n",
       "      <td>0</td>\n",
       "      <td>0</td>\n",
       "      <td>0</td>\n",
       "      <td>0</td>\n",
       "    </tr>\n",
       "    <tr>\n",
       "      <th>4</th>\n",
       "      <td>coVhQD_EAnCof_a8sGM03g</td>\n",
       "      <td>Provence Bakery</td>\n",
       "      <td>2.0</td>\n",
       "      <td>36.125587</td>\n",
       "      <td>-115.211199</td>\n",
       "      <td>{'BusinessAcceptsCreditCards': 'True', 'Busine...</td>\n",
       "      <td>Bakeries, Food</td>\n",
       "      <td>Bakeries</td>\n",
       "      <td>1</td>\n",
       "      <td>0</td>\n",
       "      <td>0</td>\n",
       "      <td>0</td>\n",
       "      <td>0</td>\n",
       "    </tr>\n",
       "  </tbody>\n",
       "</table>\n",
       "</div>"
      ],
      "text/plain": [
       "              business_id                      name  stars       latitude  \\\n",
       "0  vJIuDBdu01vCA8y1fwR1OQ                CakesbyToi    1.5     36.1922841   \n",
       "1  kgffcoxT6BQp-gJ-UQ7Czw                    Subway    2.5     36.2017936   \n",
       "2  0jtRI7hVMpQHpUVtUy4ITw    Omelet House Summerlin    4.0  36.2019904392   \n",
       "3  JJEx5wIqs9iGGATOagE8Sg  Baja Fresh Mexican Grill    2.0      36.271169   \n",
       "4  coVhQD_EAnCof_a8sGM03g           Provence Bakery    2.0      36.125587   \n",
       "\n",
       "    longitude                                         attributes  \\\n",
       "0 -115.159272  {'BikeParking': 'True', 'BusinessAcceptsCredit...   \n",
       "1 -115.281981  {'Alcohol': 'none', 'Ambience': \"{'romantic': ...   \n",
       "2 -115.283122  {'Alcohol': 'beer_and_wine', 'Ambience': \"{'ro...   \n",
       "3 -115.267759  {'HasTV': 'False', 'RestaurantsReservations': ...   \n",
       "4 -115.211199  {'BusinessAcceptsCreditCards': 'True', 'Busine...   \n",
       "\n",
       "                                          categories  \\\n",
       "0  American (Traditional), Food, Bakeries, Restau...   \n",
       "1                 Fast Food, Restaurants, Sandwiches   \n",
       "2  Beer, Wine & Spirits, Italian, Food, American ...   \n",
       "3                               Mexican, Restaurants   \n",
       "4                                     Bakeries, Food   \n",
       "\n",
       "                                            cuisines  price_range  \\\n",
       "0                    American (Traditional),Bakeries            0   \n",
       "1                               Fast Food,Sandwiches            1   \n",
       "2  Beer,Wine & Spirits,Italian,American (Traditio...            2   \n",
       "3                                            Mexican            0   \n",
       "4                                           Bakeries            1   \n",
       "\n",
       "   noise_level  good_for_kids  good_for_groups   ambience  \n",
       "0            0              0                0          0  \n",
       "1            2              1                1  100000000  \n",
       "2            2              1                1  100000000  \n",
       "3            0              0                0          0  \n",
       "4            0              0                0          0  "
      ]
     },
     "execution_count": 86,
     "metadata": {},
     "output_type": "execute_result"
    }
   ],
   "source": [
    "businesses = pd.read_csv('businesses_features.csv')\n",
    "businesses.head()"
   ]
  },
  {
   "cell_type": "code",
   "execution_count": 4,
   "metadata": {},
   "outputs": [
    {
     "data": {
      "text/html": [
       "<div>\n",
       "<style scoped>\n",
       "    .dataframe tbody tr th:only-of-type {\n",
       "        vertical-align: middle;\n",
       "    }\n",
       "\n",
       "    .dataframe tbody tr th {\n",
       "        vertical-align: top;\n",
       "    }\n",
       "\n",
       "    .dataframe thead th {\n",
       "        text-align: right;\n",
       "    }\n",
       "</style>\n",
       "<table border=\"1\" class=\"dataframe\">\n",
       "  <thead>\n",
       "    <tr style=\"text-align: right;\">\n",
       "      <th></th>\n",
       "      <th>user_id</th>\n",
       "      <th>business_id</th>\n",
       "      <th>stars</th>\n",
       "    </tr>\n",
       "  </thead>\n",
       "  <tbody>\n",
       "    <tr>\n",
       "      <th>5</th>\n",
       "      <td>AuIK5tF2GjO7SftHawTLKw</td>\n",
       "      <td>Zrx25j1M794Nh8fUGB8E9A</td>\n",
       "      <td>4</td>\n",
       "    </tr>\n",
       "    <tr>\n",
       "      <th>6</th>\n",
       "      <td>AuIK5tF2GjO7SftHawTLKw</td>\n",
       "      <td>4tWF2w6jP2LNK2xTVNEMFw</td>\n",
       "      <td>4</td>\n",
       "    </tr>\n",
       "    <tr>\n",
       "      <th>7</th>\n",
       "      <td>AuIK5tF2GjO7SftHawTLKw</td>\n",
       "      <td>1Vn_lex3LGGwuTo-xeJnww</td>\n",
       "      <td>5</td>\n",
       "    </tr>\n",
       "    <tr>\n",
       "      <th>8</th>\n",
       "      <td>AuIK5tF2GjO7SftHawTLKw</td>\n",
       "      <td>Zmfq3DVhHdtVChhSxzoUHw</td>\n",
       "      <td>4</td>\n",
       "    </tr>\n",
       "    <tr>\n",
       "      <th>9</th>\n",
       "      <td>AuIK5tF2GjO7SftHawTLKw</td>\n",
       "      <td>IcOvxejpd5FLFIkj20Opqg</td>\n",
       "      <td>4</td>\n",
       "    </tr>\n",
       "  </tbody>\n",
       "</table>\n",
       "</div>"
      ],
      "text/plain": [
       "                  user_id             business_id  stars\n",
       "5  AuIK5tF2GjO7SftHawTLKw  Zrx25j1M794Nh8fUGB8E9A      4\n",
       "6  AuIK5tF2GjO7SftHawTLKw  4tWF2w6jP2LNK2xTVNEMFw      4\n",
       "7  AuIK5tF2GjO7SftHawTLKw  1Vn_lex3LGGwuTo-xeJnww      5\n",
       "8  AuIK5tF2GjO7SftHawTLKw  Zmfq3DVhHdtVChhSxzoUHw      4\n",
       "9  AuIK5tF2GjO7SftHawTLKw  IcOvxejpd5FLFIkj20Opqg      4"
      ]
     },
     "execution_count": 4,
     "metadata": {},
     "output_type": "execute_result"
    }
   ],
   "source": [
    "reviews = pd.read_csv('reviews_lv.csv')\n",
    "reviews = reviews.groupby('user_id').filter(lambda x: len(x) >= 20)\n",
    "reviews.head()"
   ]
  },
  {
   "cell_type": "code",
   "execution_count": 6,
   "metadata": {},
   "outputs": [],
   "source": [
    "reader = Reader(rating_scale=(1, 5))\n",
    "\n",
    "data = Dataset.load_from_df(reviews, reader)\n",
    "trainset, testset = train_test_split(data, test_size=.2)"
   ]
  },
  {
   "cell_type": "code",
   "execution_count": 139,
   "metadata": {},
   "outputs": [],
   "source": [
    "# Hybrid algorithm using content-based item profiles to calculate similarity\n",
    "class Hybrid(KNNWithMeans):\n",
    "\n",
    "    def fit(self, trainset):\n",
    "        KNNWithMeans.fit(self, trainset)\n",
    "\n",
    "        item_features = []\n",
    "        for item in trainset.all_items():\n",
    "            id = trainset.to_raw_iid(item)\n",
    "            stars = businesses[businesses['business_id'] == id]['stars'].item()\n",
    "            item_cuisines = businesses[businesses['business_id'] == id]['cuisines'].item()\n",
    "            features = []\n",
    "            if not pd.isnull(item_cuisines):\n",
    "                cuisine_types = item_cuisines.split(',')\n",
    "                features += list(map(lambda x: stars if x in item_cuisines else 0, cuisines))\n",
    "            else:\n",
    "                features += [0 for _ in range(len(cuisines))]\n",
    "            features.append(businesses[businesses['business_id'] == id]['price_range'].item())\n",
    "            features.append(businesses[businesses['business_id'] == id]['noise_level'].item())\n",
    "            features.append(businesses[businesses['business_id'] == id]['good_for_kids'].item())\n",
    "            features.append(businesses[businesses['business_id'] == id]['good_for_groups'].item())\n",
    "            # features += map(lambda x: int(x), list(str(businesses[businesses['business_id'] == id]['ambience'].item())))\n",
    "            \n",
    "            item_features.append(features)\n",
    "        \n",
    "        self.sim = cosine_similarity(item_features, item_features)\n",
    "        return self"
   ]
  },
  {
   "cell_type": "code",
   "execution_count": 148,
   "metadata": {},
   "outputs": [
    {
     "name": "stdout",
     "output_type": "stream",
     "text": [
      "Computing the msd similarity matrix...\n",
      "Done computing similarity matrix.\n",
      "Took 121.83186388015747 seconds\n",
      "Hybrid Model : Test Set\n",
      "RMSE: 1.0643\n"
     ]
    },
    {
     "data": {
      "text/plain": [
       "1.064334570897796"
      ]
     },
     "execution_count": 148,
     "metadata": {},
     "output_type": "execute_result"
    }
   ],
   "source": [
    "# User-based collab filtering\n",
    "time1 = time.time()\n",
    "algo_hybrid = Hybrid(sim_options={'name': 'msd', 'user_based': False})\n",
    "algo_hybrid.fit(trainset)\n",
    "\n",
    "# how long did this take?\n",
    "time2 = time.time()\n",
    "print (f\"Took {time2 - time1} seconds\")  # took roughly ~20 seconds on reduced training set\n",
    "\n",
    "test_pred_hybrid = algo_hybrid.test(testset)\n",
    "print(\"Hybrid Model : Test Set\")\n",
    "accuracy.rmse(test_pred_user, verbose=True)"
   ]
  },
  {
   "cell_type": "code",
   "execution_count": 147,
   "metadata": {},
   "outputs": [
    {
     "name": "stdout",
     "output_type": "stream",
     "text": [
      "Computing the msd similarity matrix...\n",
      "Done computing similarity matrix.\n",
      "Took 5.6237499713897705 seconds\n",
      "Item-based Model : Test Set\n",
      "RMSE: 1.0745\n"
     ]
    },
    {
     "data": {
      "text/plain": [
       "1.0744833749544198"
      ]
     },
     "execution_count": 147,
     "metadata": {},
     "output_type": "execute_result"
    }
   ],
   "source": [
    "# Item-based collab filtering\n",
    "time1 = time.time()\n",
    "algo_item = KNNWithMeans(sim_options={'name': 'msd', 'user_based': False})\n",
    "algo_item.fit(trainset)\n",
    "\n",
    "# how long did this take?\n",
    "time2 = time.time()\n",
    "print (f\"Took {time2 - time1} seconds\")  # took roughly 3 minutes on reduced training set\n",
    "\n",
    "test_pred_item = algo_item.test(testset)\n",
    "print(\"Item-based Model : Test Set\")\n",
    "accuracy.rmse(test_pred_item, verbose=True)"
   ]
  },
  {
   "cell_type": "code",
   "execution_count": 149,
   "metadata": {},
   "outputs": [
    {
     "name": "stdout",
     "output_type": "stream",
     "text": [
      "1.0613805774232785\n"
     ]
    }
   ],
   "source": [
    "def rmse(predictions, targets):\n",
    "    return np.sqrt(((predictions - targets) ** 2).mean())\n",
    "\n",
    "# Let's try an ensemble approach of averaging the results from user and item-based filtering\n",
    "predictions = []\n",
    "targets = []\n",
    "for i in range(len(test_pred_item)):\n",
    "    assert(test_pred_item[i].uid == test_pred_hybrid[i].uid and test_pred_item[i].iid == test_pred_hybrid[i].iid)\n",
    "    new_pred = (test_pred_item[i].est + test_pred_hybrid[i].est) / 2\n",
    "    predictions.append(new_pred)\n",
    "    targets.append(test_pred_item[i].r_ui)\n",
    "\n",
    "print (rmse(np.array(predictions), np.array(targets)))"
   ]
  },
  {
   "cell_type": "code",
   "execution_count": null,
   "metadata": {},
   "outputs": [],
   "source": []
  }
 ],
 "metadata": {
  "kernelspec": {
   "display_name": "Python 3",
   "language": "python",
   "name": "python3"
  },
  "language_info": {
   "codemirror_mode": {
    "name": "ipython",
    "version": 3
   },
   "file_extension": ".py",
   "mimetype": "text/x-python",
   "name": "python",
   "nbconvert_exporter": "python",
   "pygments_lexer": "ipython3",
   "version": "3.6.6"
  }
 },
 "nbformat": 4,
 "nbformat_minor": 2
}
