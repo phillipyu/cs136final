{
 "cells": [
  {
   "cell_type": "code",
   "execution_count": 89,
   "metadata": {},
   "outputs": [],
   "source": [
    "import json\n",
    "import csv\n",
    "from cuisines import cuisines"
   ]
  },
  {
   "cell_type": "code",
   "execution_count": 62,
   "metadata": {},
   "outputs": [],
   "source": [
    "def get_contents(contents, columns):\n",
    "    return map(lambda x: str(contents[x]), columns)"
   ]
  },
  {
   "cell_type": "code",
   "execution_count": 65,
   "metadata": {},
   "outputs": [
    {
     "name": "stdout",
     "output_type": "stream",
     "text": [
      "312462\n"
     ]
    }
   ],
   "source": [
    "# Get users with more than 20 reviews\n",
    "users_over_20 = set()\n",
    "\n",
    "user_columns = ['user_id', 'name', 'review_count']\n",
    "with open('users_over_20.csv', 'w', encoding='utf-8') as fout:\n",
    "    csv_file = csv.writer(fout)\n",
    "    csv_file.writerow(user_columns)\n",
    "    with open('yelp_academic_dataset_user.json', 'rb') as fin:\n",
    "        for line in fin:\n",
    "            contents = json.loads(line)\n",
    "            if contents['review_count'] >= 20:\n",
    "                users_over_20.add(contents['user_id'])\n",
    "                csv_file.writerow(get_contents(contents, user_columns))\n",
    "print (f\"{len(users_over_20)}\")"
   ]
  },
  {
   "cell_type": "code",
   "execution_count": 70,
   "metadata": {},
   "outputs": [],
   "source": [
    "def clean_json(s):\n",
    "    return s.replace('False', '\"False\"').replace('True', '\"True\"').replace(\"'\", '\"')"
   ]
  },
  {
   "cell_type": "code",
   "execution_count": 76,
   "metadata": {},
   "outputs": [
    {
     "name": "stdout",
     "output_type": "stream",
     "text": [
      "Total businesses: 72651, Total in LV: 7981\n"
     ]
    }
   ],
   "source": [
    "# Get business names and categories\n",
    "businesses_lv = set()\n",
    "with_cuisine = 0\n",
    "attributes = {'GoodForMeal': set(), 'RestaurantsPriceRange2': set(), 'NoiseLevel': set(), 'RestaurantsAttire': set()}\n",
    "total = 0\n",
    "business_columns = ['business_id', 'name', 'latitude', 'longitude', 'attributes', 'categories']\n",
    "with open('businesses.csv', 'w', encoding='utf-8') as fout, open('businesses_lv.csv', 'w', encoding='utf-8') as fout2:\n",
    "    csv_file = csv.writer(fout)\n",
    "    csv_file.writerow(business_columns)\n",
    "    csv_file_lv = csv.writer(fout2)\n",
    "    csv_file_lv.writerow(business_columns)\n",
    "    with open('yelp_academic_dataset_business.json', 'rb') as fin:\n",
    "        for line in fin:    \n",
    "            contents = json.loads(line)\n",
    "            # May exclude bars, but captures most restaurants / cafes and excludes other categories\n",
    "            if contents['categories'] and ('Restaurants' in contents['categories'] or 'Food' in contents['categories']):\n",
    "                if contents['city'].lower() == 'las vegas':\n",
    "                    businesses_lv.add(contents['business_id'])\n",
    "                    csv_file_lv.writerow(get_contents(contents, business_columns))\n",
    "                csv_file.writerow(get_contents(contents, business_columns))\n",
    "                total += 1\n",
    "# RestaurantsPriceRange2, GoodForMeal, NoiseLevel, RestaurantsAttire\n",
    "print (f\"Total businesses: {total}, Total in LV: {len(businesses_lv)}\")"
   ]
  },
  {
   "cell_type": "code",
   "execution_count": 66,
   "metadata": {},
   "outputs": [
    {
     "name": "stdout",
     "output_type": "stream",
     "text": [
      "Reviews for LV: 709671\n"
     ]
    }
   ],
   "source": [
    "# Get reviews for relevant users and businesses\n",
    "reviews_in_lv = 0\n",
    "review_columns = ['user_id', 'business_id', 'stars']\n",
    "with open('reviews.csv', 'w', encoding='utf-8') as fout, open('reviews_lv.csv', 'w', encoding='utf-8') as fout2:\n",
    "    csv_file = csv.writer(fout)\n",
    "    csv_file.writerow(review_columns)\n",
    "    csv_file_lv = csv.writer(fout2)\n",
    "    csv_file_lv.writerow(review_columns)\n",
    "    with open('yelp_academic_dataset_review.json', 'rb') as fin:\n",
    "        for line in fin:\n",
    "            contents = json.loads(line)\n",
    "            if contents['user_id'] in users_over_20:\n",
    "                if contents['business_id'] in businesses_lv:\n",
    "                    csv_file_lv.writerow(get_contents(contents, review_columns))\n",
    "                    reviews_in_lv += 1\n",
    "                csv_file.writerow(get_contents(contents, review_columns))\n",
    "print (f\"Reviews for LV: {reviews_in_lv}\")"
   ]
  },
  {
   "cell_type": "code",
   "execution_count": 85,
   "metadata": {},
   "outputs": [],
   "source": [
    "def parse_values(s):\n",
    "    d = json.loads(clean_json(s))\n",
    "    vals = ''\n",
    "    for key in sorted(d):\n",
    "        if d[key] == 'True':\n",
    "            vals += '1'\n",
    "        else:\n",
    "            vals += '0'\n",
    "    return vals\n",
    "\n",
    "def noise_level(n):\n",
    "    if n == 'quiet':\n",
    "        return '1'\n",
    "    if n == 'average':\n",
    "        return '2'\n",
    "    if n == 'loud':\n",
    "        return '3'\n",
    "    if n == 'very_loud':\n",
    "        return '4'\n",
    "    return '0'"
   ]
  },
  {
   "cell_type": "code",
   "execution_count": 88,
   "metadata": {},
   "outputs": [
    {
     "name": "stdout",
     "output_type": "stream",
     "text": [
      "Total businesses: 72651, Total in LV: 7981\n"
     ]
    }
   ],
   "source": [
    "# Get business data with features: star rating, cuisine, price range, noise level, good for kids/groups, ambience\n",
    "business_columns = ['business_id', 'name', 'stars', 'latitude', 'longitude', 'attributes', 'categories']\n",
    "features = ['cuisines', 'price_range', 'noise_level', 'good_for_kids', 'good_for_groups', 'ambience']\n",
    "x = {'Ambience': set(), 'NoiseLevel': set()}\n",
    "with open('businesses_features.csv', 'w', encoding='utf-8') as fout:\n",
    "    csv_file = csv.writer(fout)\n",
    "    csv_file.writerow(business_columns + features)\n",
    "    with open('yelp_academic_dataset_business.json', 'rb') as fin:\n",
    "        for line in fin:    \n",
    "            contents = json.loads(line)\n",
    "            # May exclude bars, but captures most restaurants / cafes and excludes other categories\n",
    "            if contents['categories'] and ('Restaurants' in contents['categories'] or 'Food' in contents['categories']):\n",
    "                if contents['city'].lower() == 'las vegas':\n",
    "                    row = list(get_contents(contents, business_columns))\n",
    "                    bc = []\n",
    "                    for c in contents['categories'].split(', '):\n",
    "                        if c in cuisines:\n",
    "                            bc.append(c)\n",
    "                    row += [','.join(bc)]\n",
    "                    if contents['attributes']:\n",
    "                        attr = contents['attributes']\n",
    "                        row.append(attr['RestaurantsPriceRange2']) if 'RestaurantsPriceRange2' in attr else row.append('0')\n",
    "                        row.append(noise_level(attr['NoiseLevel'])) if 'NoiseLevel' in attr else row.append('0')\n",
    "                        row.append(1) if 'GoodForKids' in attr and attr['GoodForKids'] else row.append('0')\n",
    "                        row.append(1) if 'RestaurantsGoodForGroups' in attr and attr['RestaurantsGoodForGroups'] else row.append('0')\n",
    "                        row.append(parse_values(attr['Ambience'])) if 'Ambience' in attr else row.append('0' * 9) # 9 possible values\n",
    "                    else:\n",
    "                        row += ['0' for _ in range(4)]\n",
    "                        row.append('0' * 9)\n",
    "                    csv_file.writerow(row)\n",
    "\n",
    "print (f\"Total businesses: {total}, Total in LV: {len(businesses_lv)}\")"
   ]
  },
  {
   "cell_type": "code",
   "execution_count": null,
   "metadata": {},
   "outputs": [],
   "source": []
  },
  {
   "cell_type": "code",
   "execution_count": null,
   "metadata": {},
   "outputs": [],
   "source": []
  }
 ],
 "metadata": {
  "kernelspec": {
   "display_name": "Python 3",
   "language": "python",
   "name": "python3"
  },
  "language_info": {
   "codemirror_mode": {
    "name": "ipython",
    "version": 3
   },
   "file_extension": ".py",
   "mimetype": "text/x-python",
   "name": "python",
   "nbconvert_exporter": "python",
   "pygments_lexer": "ipython3",
   "version": "3.6.6"
  }
 },
 "nbformat": 4,
 "nbformat_minor": 2
}
