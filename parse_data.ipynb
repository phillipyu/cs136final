{
 "cells": [
  {
   "cell_type": "code",
   "execution_count": 1,
   "metadata": {},
   "outputs": [],
   "source": [
    "import json\n",
    "import csv"
   ]
  },
  {
   "cell_type": "code",
   "execution_count": 62,
   "metadata": {},
   "outputs": [],
   "source": [
    "def get_contents(contents, columns):\n",
    "    return map(lambda x: str(contents[x]), columns)"
   ]
  },
  {
   "cell_type": "code",
   "execution_count": 65,
   "metadata": {},
   "outputs": [
    {
     "name": "stdout",
     "output_type": "stream",
     "text": [
      "312462\n"
     ]
    }
   ],
   "source": [
    "# Get users with more than 20 reviews\n",
    "users_over_20 = set()\n",
    "\n",
    "user_columns = ['user_id', 'name', 'review_count']\n",
    "with open('users_over_20.csv', 'w', encoding='utf-8') as fout:\n",
    "    csv_file = csv.writer(fout)\n",
    "    csv_file.writerow(user_columns)\n",
    "    with open('yelp_academic_dataset_user.json', 'rb') as fin:\n",
    "        for line in fin:\n",
    "            contents = json.loads(line)\n",
    "            if contents['review_count'] >= 20:\n",
    "                users_over_20.add(contents['user_id'])\n",
    "                csv_file.writerow(get_contents(contents, user_columns))\n",
    "print (f\"{len(users_over_20)}\")"
   ]
  },
  {
   "cell_type": "code",
   "execution_count": 64,
   "metadata": {},
   "outputs": [
    {
     "name": "stdout",
     "output_type": "stream",
     "text": [
      "Total businesses: 72651, Total in LV: 7981\n"
     ]
    }
   ],
   "source": [
    "# Get business names and categories\n",
    "businesses_lv = set()\n",
    "total = 0\n",
    "business_columns = ['business_id', 'name', 'latitude', 'longitude', 'attributes', 'categories']\n",
    "with open('businesses.csv', 'w', encoding='utf-8') as fout, open('businesses_lv.csv', 'w', encoding='utf-8') as fout2:\n",
    "    csv_file = csv.writer(fout)\n",
    "    csv_file.writerow(business_columns)\n",
    "    csv_file_lv = csv.writer(fout2)\n",
    "    csv_file_lv.writerow(business_columns)\n",
    "    with open('yelp_academic_dataset_business.json', 'rb') as fin:\n",
    "        for line in fin:    \n",
    "            contents = json.loads(line)\n",
    "            # May exclude bars, but captures most restaurants / cafes and excludes other categories\n",
    "            if contents['categories'] and ('Restaurants' in contents['categories'] or 'Food' in contents['categories']):\n",
    "                if contents['city'].lower() == 'las vegas':\n",
    "                    businesses_lv.add(contents['business_id'])\n",
    "                    csv_file_lv.writerow(get_contents(contents, business_columns))\n",
    "                csv_file.writerow(get_contents(contents, business_columns))\n",
    "                total += 1\n",
    "\n",
    "print (f\"Total businesses: {total}, Total in LV: {len(businesses_lv)}\")"
   ]
  },
  {
   "cell_type": "code",
   "execution_count": 66,
   "metadata": {},
   "outputs": [
    {
     "name": "stdout",
     "output_type": "stream",
     "text": [
      "Reviews for LV: 709671\n"
     ]
    }
   ],
   "source": [
    "# Get reviews for relevant users and businesses\n",
    "reviews_in_lv = 0\n",
    "review_columns = ['user_id', 'business_id', 'stars']\n",
    "with open('reviews.csv', 'w', encoding='utf-8') as fout, open('reviews_lv.csv', 'w', encoding='utf-8') as fout2:\n",
    "    csv_file = csv.writer(fout)\n",
    "    csv_file.writerow(review_columns)\n",
    "    csv_file_lv = csv.writer(fout2)\n",
    "    csv_file_lv.writerow(review_columns)\n",
    "    with open('yelp_academic_dataset_review.json', 'rb') as fin:\n",
    "        for line in fin:\n",
    "            contents = json.loads(line)\n",
    "            if contents['user_id'] in users_over_20:\n",
    "                if contents['business_id'] in businesses_lv:\n",
    "                    csv_file_lv.writerow(get_contents(contents, review_columns))\n",
    "                    reviews_in_lv += 1\n",
    "                csv_file.writerow(get_contents(contents, review_columns))\n",
    "print (f\"Reviews for LV: {reviews_in_lv}\")"
   ]
  },
  {
   "cell_type": "code",
   "execution_count": null,
   "metadata": {},
   "outputs": [],
   "source": []
  }
 ],
 "metadata": {
  "kernelspec": {
   "display_name": "Python 3",
   "language": "python",
   "name": "python3"
  },
  "language_info": {
   "codemirror_mode": {
    "name": "ipython",
    "version": 3
   },
   "file_extension": ".py",
   "mimetype": "text/x-python",
   "name": "python",
   "nbconvert_exporter": "python",
   "pygments_lexer": "ipython3",
   "version": "3.6.6"
  }
 },
 "nbformat": 4,
 "nbformat_minor": 2
}
