{
 "cells": [
  {
   "cell_type": "code",
   "execution_count": 17,
   "metadata": {
    "collapsed": true,
    "scrolled": true
   },
   "outputs": [],
   "source": [
    "import pandas as pd\n",
    "import numpy as np\n",
    "import time\n",
    "from surprise import KNNWithMeans\n",
    "from surprise import Dataset, Reader\n",
    "from surprise import accuracy\n",
    "from surprise.model_selection import train_test_split\n",
    "from collections import defaultdict"
   ]
  },
  {
   "cell_type": "code",
   "execution_count": 4,
   "metadata": {
    "collapsed": true
   },
   "outputs": [],
   "source": [
    "businesses = pd.read_csv(\"businesses.csv\")"
   ]
  },
  {
   "cell_type": "code",
   "execution_count": 5,
   "metadata": {
    "collapsed": true
   },
   "outputs": [],
   "source": [
    "reviews = pd.read_csv(\"reviews.csv\")"
   ]
  },
  {
   "cell_type": "code",
   "execution_count": 5,
   "metadata": {
    "collapsed": true
   },
   "outputs": [],
   "source": [
    "users = pd.read_csv(\"users_over_20.csv\")"
   ]
  },
  {
   "cell_type": "code",
   "execution_count": 7,
   "metadata": {},
   "outputs": [
    {
     "data": {
      "text/html": [
       "<div>\n",
       "<style scoped>\n",
       "    .dataframe tbody tr th:only-of-type {\n",
       "        vertical-align: middle;\n",
       "    }\n",
       "\n",
       "    .dataframe tbody tr th {\n",
       "        vertical-align: top;\n",
       "    }\n",
       "\n",
       "    .dataframe thead th {\n",
       "        text-align: right;\n",
       "    }\n",
       "</style>\n",
       "<table border=\"1\" class=\"dataframe\">\n",
       "  <thead>\n",
       "    <tr style=\"text-align: right;\">\n",
       "      <th></th>\n",
       "      <th>business_id</th>\n",
       "      <th>name</th>\n",
       "      <th>latitude</th>\n",
       "      <th>longitude</th>\n",
       "      <th>attributes</th>\n",
       "      <th>categories</th>\n",
       "    </tr>\n",
       "  </thead>\n",
       "  <tbody>\n",
       "    <tr>\n",
       "      <th>0</th>\n",
       "      <td>Apn5Q_b6Nz61Tq4XzPdf9A</td>\n",
       "      <td>Minhas Micro Brewery</td>\n",
       "      <td>51.0918130155</td>\n",
       "      <td>-114.031674872</td>\n",
       "      <td>{u'BusinessParking': u\"{'garage': False, 'stre...</td>\n",
       "      <td>Tours, Breweries, Pizza, Restaurants, Food, Ho...</td>\n",
       "    </tr>\n",
       "    <tr>\n",
       "      <th>1</th>\n",
       "      <td>AjEbIBw6ZFfln7ePHha9PA</td>\n",
       "      <td>CK'S BBQ &amp; Catering</td>\n",
       "      <td>35.9607337</td>\n",
       "      <td>-114.939821</td>\n",
       "      <td>{u'RestaurantsTableService': u'False', u'GoodF...</td>\n",
       "      <td>Chicken Wings, Burgers, Caterers, Street Vendo...</td>\n",
       "    </tr>\n",
       "    <tr>\n",
       "      <th>2</th>\n",
       "      <td>O8S5hYJ1SMc8fA4QBtVujA</td>\n",
       "      <td>La Bastringue</td>\n",
       "      <td>45.5405031</td>\n",
       "      <td>-73.5993003</td>\n",
       "      <td>{u'RestaurantsTableService': u'True', u'GoodFo...</td>\n",
       "      <td>Breakfast &amp; Brunch, Restaurants, French, Sandw...</td>\n",
       "    </tr>\n",
       "    <tr>\n",
       "      <th>3</th>\n",
       "      <td>bFzdJJ3wp3PZssNEsyU23g</td>\n",
       "      <td>Geico Insurance</td>\n",
       "      <td>33.4499993</td>\n",
       "      <td>-112.0769793</td>\n",
       "      <td>None</td>\n",
       "      <td>Insurance, Financial Services</td>\n",
       "    </tr>\n",
       "    <tr>\n",
       "      <th>4</th>\n",
       "      <td>8USyCYqpScwiNEb58Bt6CA</td>\n",
       "      <td>Action Engine</td>\n",
       "      <td>51.0355914</td>\n",
       "      <td>-114.0273656</td>\n",
       "      <td>{u'BusinessAcceptsCreditCards': u'True'}</td>\n",
       "      <td>Home &amp; Garden, Nurseries &amp; Gardening, Shopping...</td>\n",
       "    </tr>\n",
       "  </tbody>\n",
       "</table>\n",
       "</div>"
      ],
      "text/plain": [
       "              business_id                  name       latitude  \\\n",
       "0  Apn5Q_b6Nz61Tq4XzPdf9A  Minhas Micro Brewery  51.0918130155   \n",
       "1  AjEbIBw6ZFfln7ePHha9PA   CK'S BBQ & Catering     35.9607337   \n",
       "2  O8S5hYJ1SMc8fA4QBtVujA         La Bastringue     45.5405031   \n",
       "3  bFzdJJ3wp3PZssNEsyU23g       Geico Insurance     33.4499993   \n",
       "4  8USyCYqpScwiNEb58Bt6CA         Action Engine     51.0355914   \n",
       "\n",
       "        longitude                                         attributes  \\\n",
       "0  -114.031674872  {u'BusinessParking': u\"{'garage': False, 'stre...   \n",
       "1     -114.939821  {u'RestaurantsTableService': u'False', u'GoodF...   \n",
       "2     -73.5993003  {u'RestaurantsTableService': u'True', u'GoodFo...   \n",
       "3    -112.0769793                                               None   \n",
       "4    -114.0273656           {u'BusinessAcceptsCreditCards': u'True'}   \n",
       "\n",
       "                                          categories  \n",
       "0  Tours, Breweries, Pizza, Restaurants, Food, Ho...  \n",
       "1  Chicken Wings, Burgers, Caterers, Street Vendo...  \n",
       "2  Breakfast & Brunch, Restaurants, French, Sandw...  \n",
       "3                      Insurance, Financial Services  \n",
       "4  Home & Garden, Nurseries & Gardening, Shopping...  "
      ]
     },
     "execution_count": 7,
     "metadata": {},
     "output_type": "execute_result"
    }
   ],
   "source": [
    "businesses.head()"
   ]
  },
  {
   "cell_type": "code",
   "execution_count": 15,
   "metadata": {},
   "outputs": [
    {
     "name": "stdout",
     "output_type": "stream",
     "text": [
      "<class 'pandas.core.frame.DataFrame'>\n",
      "RangeIndex: 100000 entries, 0 to 99999\n",
      "Data columns (total 3 columns):\n",
      "user_id        100000 non-null object\n",
      "business_id    100000 non-null object\n",
      "stars          100000 non-null int64\n",
      "dtypes: int64(1), object(2)\n",
      "memory usage: 2.3+ MB\n"
     ]
    }
   ],
   "source": [
    "reviews = reviews[:100000]  # for now, let's work with a pruned dataset\n",
    "reviews.info()"
   ]
  },
  {
   "cell_type": "code",
   "execution_count": 41,
   "metadata": {},
   "outputs": [
    {
     "data": {
      "text/plain": [
       "user_id        6004\n",
       "business_id    7583\n",
       "stars             5\n",
       "dtype: int64"
      ]
     },
     "execution_count": 41,
     "metadata": {},
     "output_type": "execute_result"
    }
   ],
   "source": [
    "reviews.head()\n",
    "reviews.nunique()  # how many distinct users and items?"
   ]
  },
  {
   "cell_type": "code",
   "execution_count": 9,
   "metadata": {},
   "outputs": [
    {
     "data": {
      "text/html": [
       "<div>\n",
       "<style scoped>\n",
       "    .dataframe tbody tr th:only-of-type {\n",
       "        vertical-align: middle;\n",
       "    }\n",
       "\n",
       "    .dataframe tbody tr th {\n",
       "        vertical-align: top;\n",
       "    }\n",
       "\n",
       "    .dataframe thead th {\n",
       "        text-align: right;\n",
       "    }\n",
       "</style>\n",
       "<table border=\"1\" class=\"dataframe\">\n",
       "  <thead>\n",
       "    <tr style=\"text-align: right;\">\n",
       "      <th></th>\n",
       "      <th>user_id</th>\n",
       "      <th>name</th>\n",
       "      <th>review_count</th>\n",
       "    </tr>\n",
       "  </thead>\n",
       "  <tbody>\n",
       "    <tr>\n",
       "      <th>0</th>\n",
       "      <td>rMkz1mjevjl8xqrypZwHzw</td>\n",
       "      <td>Daniel</td>\n",
       "      <td>84</td>\n",
       "    </tr>\n",
       "    <tr>\n",
       "      <th>1</th>\n",
       "      <td>mN1eee0_j-dglmm57NAf3w</td>\n",
       "      <td>j</td>\n",
       "      <td>163</td>\n",
       "    </tr>\n",
       "    <tr>\n",
       "      <th>2</th>\n",
       "      <td>68qmfoSUXpPUaXz_VEyqzA</td>\n",
       "      <td>Mary</td>\n",
       "      <td>32</td>\n",
       "    </tr>\n",
       "    <tr>\n",
       "      <th>3</th>\n",
       "      <td>ZQ8ZXepUHhT-RB-THcCzEw</td>\n",
       "      <td>M</td>\n",
       "      <td>85</td>\n",
       "    </tr>\n",
       "    <tr>\n",
       "      <th>4</th>\n",
       "      <td>8C5396Ory3qaO-5Lsix_CQ</td>\n",
       "      <td>jason</td>\n",
       "      <td>25</td>\n",
       "    </tr>\n",
       "  </tbody>\n",
       "</table>\n",
       "</div>"
      ],
      "text/plain": [
       "                  user_id    name  review_count\n",
       "0  rMkz1mjevjl8xqrypZwHzw  Daniel            84\n",
       "1  mN1eee0_j-dglmm57NAf3w       j           163\n",
       "2  68qmfoSUXpPUaXz_VEyqzA    Mary            32\n",
       "3  ZQ8ZXepUHhT-RB-THcCzEw       M            85\n",
       "4  8C5396Ory3qaO-5Lsix_CQ   jason            25"
      ]
     },
     "execution_count": 9,
     "metadata": {},
     "output_type": "execute_result"
    }
   ],
   "source": [
    "users.head()"
   ]
  },
  {
   "cell_type": "code",
   "execution_count": 4,
   "metadata": {},
   "outputs": [],
   "source": [
    "# Let's try this again, except this time only with reviews from Las Vegas\n",
    "businesses_lv = pd.read_csv(\"businesses_lv.csv\")\n",
    "reviews_lv = pd.read_csv(\"reviews_lv.csv\")"
   ]
  },
  {
   "cell_type": "code",
   "execution_count": 34,
   "metadata": {},
   "outputs": [],
   "source": [
    "# so we don't have to change all the code further down\n",
    "reviews = reviews_lv\n",
    "\n",
    "# Let's re-filter reviews so only users with at least 10 reviews show up\n",
    "reviews = reviews.groupby('user_id').filter(lambda x: len(x) >= 20)\n",
    "# reviews['user_id'].value_counts()  # double check this worked\n",
    "print (len(reviews))"
   ]
  },
  {
   "cell_type": "code",
   "execution_count": 36,
   "metadata": {
    "collapsed": true
   },
   "outputs": [],
   "source": [
    "# https://surprise.readthedocs.io/en/stable/getting_started.html#load-from-df-example\n",
    "# Per surprise documentation, the data must be in form of user_id, item_id, rating (i.e. we use reviews)\n",
    "reader = Reader(rating_scale=(1, 5))\n",
    "\n",
    "data = Dataset.load_from_df(reviews, reader)\n",
    "trainset, testset = train_test_split(data, test_size=.2)"
   ]
  },
  {
   "cell_type": "code",
   "execution_count": 42,
   "metadata": {},
   "outputs": [
    {
     "name": "stdout",
     "output_type": "stream",
     "text": [
      "Computing the cosine similarity matrix...\n",
      "Done computing similarity matrix.\n",
      "Took 14.40573787689209 seconds\n"
     ]
    }
   ],
   "source": [
    "# User-based collab filtering\n",
    "time1 = time.time()\n",
    "algo_user = KNNWithMeans(sim_options={'name': 'cosine', 'user_based': True})\n",
    "algo_user.fit(trainset)\n",
    "\n",
    "# how long did this take?\n",
    "time2 = time.time()\n",
    "print (f\"Took {time2 - time1} seconds\")  # took roughly ~20 seconds on reduced training set"
   ]
  },
  {
   "cell_type": "code",
   "execution_count": 28,
   "metadata": {},
   "outputs": [
    {
     "name": "stdout",
     "output_type": "stream",
     "text": [
      "user: 0pf5VuzE4_1pwj5NJHG5TQ item: vsFFbN71ehRCp46KeR5RdQ r_ui = 5.00   est = 4.13   {'actual_k': 12, 'was_impossible': False}\n",
      "user: 0pf5VuzE4_1pwj5NJHG5TQ item: yGZtG3KpoXyvF6gUC0FExQ r_ui = 2.00   est = 2.00   {'actual_k': 1, 'was_impossible': False}\n"
     ]
    }
   ],
   "source": [
    "uid = \"0pf5VuzE4_1pwj5NJHG5TQ\"  # raw user id\n",
    "iid = \"vsFFbN71ehRCp46KeR5RdQ\"  # raw item id\n",
    "iid2 = \"yGZtG3KpoXyvF6gUC0FExQ\"\n",
    "\n",
    "# randomly make some predictions, just to see\n",
    "pred = algo_user.predict(uid, iid, r_ui=5, verbose=True)\n",
    "pred = algo_user.predict(uid, iid2, r_ui=2, verbose=True)"
   ]
  },
  {
   "cell_type": "code",
   "execution_count": 49,
   "metadata": {},
   "outputs": [
    {
     "name": "stdout",
     "output_type": "stream",
     "text": [
      "User-based Model : Test Set\n",
      "RMSE: 1.0788\n"
     ]
    },
    {
     "data": {
      "text/plain": [
       "1.078810370396319"
      ]
     },
     "execution_count": 49,
     "metadata": {},
     "output_type": "execute_result"
    }
   ],
   "source": [
    "test_pred_user = algo_user.test(testset)\n",
    "print(\"User-based Model : Test Set\")\n",
    "accuracy.rmse(test_pred_user, verbose=True)"
   ]
  },
  {
   "cell_type": "code",
   "execution_count": 37,
   "metadata": {},
   "outputs": [
    {
     "name": "stdout",
     "output_type": "stream",
     "text": [
      "Computing the cosine similarity matrix...\n",
      "Done computing similarity matrix.\n",
      "Took 12.687972068786621 seconds\n"
     ]
    }
   ],
   "source": [
    "# Item-based collab filtering\n",
    "time1 = time.time()\n",
    "algo_item = KNNWithMeans(sim_options={'name': 'cosine', 'user_based': False})\n",
    "algo_item.fit(trainset)\n",
    "\n",
    "# how long did this take?\n",
    "time2 = time.time()\n",
    "print (f\"Took {time2 - time1} seconds\")  # took roughly 3 minutes on reduced training set"
   ]
  },
  {
   "cell_type": "code",
   "execution_count": 12,
   "metadata": {},
   "outputs": [
    {
     "name": "stdout",
     "output_type": "stream",
     "text": [
      "user: 0pf5VuzE4_1pwj5NJHG5TQ item: vsFFbN71ehRCp46KeR5RdQ r_ui = 5.00   est = 3.77   {'was_impossible': True, 'reason': 'User and/or item is unkown.'}\n",
      "user: 0pf5VuzE4_1pwj5NJHG5TQ item: yGZtG3KpoXyvF6gUC0FExQ r_ui = 2.00   est = 3.77   {'was_impossible': True, 'reason': 'User and/or item is unkown.'}\n"
     ]
    }
   ],
   "source": [
    "uid = \"0pf5VuzE4_1pwj5NJHG5TQ\"  # raw user id\n",
    "iid = \"vsFFbN71ehRCp46KeR5RdQ\"  # raw item id\n",
    "iid2 = \"yGZtG3KpoXyvF6gUC0FExQ\"\n",
    "\n",
    "# randomly make some predictions, just to see\n",
    "pred = algo_item.predict(uid, iid, r_ui=5, verbose=True)\n",
    "pred = algo_item.predict(uid, iid2, r_ui=2, verbose=True)"
   ]
  },
  {
   "cell_type": "code",
   "execution_count": 48,
   "metadata": {},
   "outputs": [
    {
     "name": "stdout",
     "output_type": "stream",
     "text": [
      "User-based Model : Test Set\n",
      "RMSE: 1.0724\n"
     ]
    },
    {
     "data": {
      "text/plain": [
       "1.072443571456047"
      ]
     },
     "execution_count": 48,
     "metadata": {},
     "output_type": "execute_result"
    }
   ],
   "source": [
    "test_pred_item = algo_item.test(testset)\n",
    "print(\"User-based Model : Test Set\")\n",
    "accuracy.rmse(test_pred_item, verbose=True)"
   ]
  },
  {
   "cell_type": "code",
   "execution_count": 16,
   "metadata": {},
   "outputs": [
    {
     "name": "stdout",
     "output_type": "stream",
     "text": [
      "Computing the msd similarity matrix...\n",
      "Done computing similarity matrix.\n",
      "Took 4.283728837966919 seconds\n",
      "User-based Model : Test Set\n",
      "RMSE: 1.2143\n"
     ]
    },
    {
     "data": {
      "text/plain": [
       "1.2142814010928102"
      ]
     },
     "execution_count": 16,
     "metadata": {},
     "output_type": "execute_result"
    }
   ],
   "source": [
    "# Let's try fitting item-item with a bunch of other types of similarity\n",
    "# Item-based collab filtering\n",
    "time1 = time.time()\n",
    "algo_item = KNNWithMeans(sim_options={'name': 'msd', 'user_based': False})\n",
    "algo_item.fit(trainset)\n",
    "\n",
    "# how long did this take?\n",
    "time2 = time.time()\n",
    "print (f\"Took {time2 - time1} seconds\")  # took roughly 3 minutes on reduced training set\n",
    "\n",
    "test_pred = algo_item.test(testset)\n",
    "print(\"User-based Model : Test Set\")\n",
    "accuracy.rmse(test_pred, verbose=True)"
   ]
  },
  {
   "cell_type": "code",
   "execution_count": 76,
   "metadata": {},
   "outputs": [
    {
     "name": "stdout",
     "output_type": "stream",
     "text": [
      "1.0648819298945544\n"
     ]
    }
   ],
   "source": [
    "def rmse(predictions, targets):\n",
    "    return np.sqrt(((predictions - targets) ** 2).mean())\n",
    "\n",
    "# Let's try an ensemble approach of averaging the results from user and item-based filtering\n",
    "predictions = []\n",
    "targets = []\n",
    "for i in range(len(test_pred_item)):\n",
    "    assert(test_pred_item[i].uid == test_pred_user[i].uid and test_pred_item[i].iid == test_pred_user[i].iid)\n",
    "    new_pred = (test_pred_item[i].est + test_pred_user[i].est) / 2\n",
    "    predictions.append(new_pred)\n",
    "    targets.append(test_pred_item[i].r_ui)\n",
    "# test_pred_item[0].est\n",
    "# test_pred_user[0]\n",
    "\n",
    "print (rmse(np.array(predictions), np.array(targets)))"
   ]
  }
 ],
 "metadata": {
  "kernelspec": {
   "display_name": "Python 3",
   "language": "python",
   "name": "python3"
  },
  "language_info": {
   "codemirror_mode": {
    "name": "ipython",
    "version": 3
   },
   "file_extension": ".py",
   "mimetype": "text/x-python",
   "name": "python",
   "nbconvert_exporter": "python",
   "pygments_lexer": "ipython3",
   "version": "3.6.3"
  }
 },
 "nbformat": 4,
 "nbformat_minor": 2
}
