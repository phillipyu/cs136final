{
 "cells": [
  {
   "cell_type": "code",
   "execution_count": 45,
   "metadata": {
    "scrolled": true
   },
   "outputs": [],
   "source": [
    "import pandas as pd\n",
    "import numpy as np\n",
    "import time\n",
    "from surprise import KNNWithMeans, SVD\n",
    "from surprise import Dataset, Reader\n",
    "from surprise import accuracy\n",
    "from surprise.model_selection import train_test_split, cross_validate\n",
    "from surprise.model_selection import GridSearchCV\n",
    "from collections import defaultdict"
   ]
  },
  {
   "cell_type": "code",
   "execution_count": 35,
   "metadata": {},
   "outputs": [],
   "source": [
    "businesses = pd.read_csv(\"businesses.csv\")"
   ]
  },
  {
   "cell_type": "code",
   "execution_count": 7,
   "metadata": {},
   "outputs": [],
   "source": [
    "reviews = pd.read_csv(\"reviews.csv\")"
   ]
  },
  {
   "cell_type": "code",
   "execution_count": 8,
   "metadata": {},
   "outputs": [],
   "source": [
    "users = pd.read_csv(\"users_over_20.csv\")"
   ]
  },
  {
   "cell_type": "code",
   "execution_count": 36,
   "metadata": {},
   "outputs": [
    {
     "data": {
      "text/html": [
       "<div>\n",
       "<style scoped>\n",
       "    .dataframe tbody tr th:only-of-type {\n",
       "        vertical-align: middle;\n",
       "    }\n",
       "\n",
       "    .dataframe tbody tr th {\n",
       "        vertical-align: top;\n",
       "    }\n",
       "\n",
       "    .dataframe thead th {\n",
       "        text-align: right;\n",
       "    }\n",
       "</style>\n",
       "<table border=\"1\" class=\"dataframe\">\n",
       "  <thead>\n",
       "    <tr style=\"text-align: right;\">\n",
       "      <th></th>\n",
       "      <th>business_id</th>\n",
       "      <th>name</th>\n",
       "      <th>latitude</th>\n",
       "      <th>longitude</th>\n",
       "      <th>attributes</th>\n",
       "      <th>categories</th>\n",
       "    </tr>\n",
       "  </thead>\n",
       "  <tbody>\n",
       "    <tr>\n",
       "      <th>0</th>\n",
       "      <td>Apn5Q_b6Nz61Tq4XzPdf9A</td>\n",
       "      <td>Minhas Micro Brewery</td>\n",
       "      <td>51.091813</td>\n",
       "      <td>-114.031675</td>\n",
       "      <td>{'BikeParking': 'False', 'BusinessAcceptsCredi...</td>\n",
       "      <td>Tours, Breweries, Pizza, Restaurants, Food, Ho...</td>\n",
       "    </tr>\n",
       "    <tr>\n",
       "      <th>1</th>\n",
       "      <td>AjEbIBw6ZFfln7ePHha9PA</td>\n",
       "      <td>CK'S BBQ &amp; Catering</td>\n",
       "      <td>35.960734</td>\n",
       "      <td>-114.939821</td>\n",
       "      <td>{'Alcohol': 'none', 'BikeParking': 'False', 'B...</td>\n",
       "      <td>Chicken Wings, Burgers, Caterers, Street Vendo...</td>\n",
       "    </tr>\n",
       "    <tr>\n",
       "      <th>2</th>\n",
       "      <td>O8S5hYJ1SMc8fA4QBtVujA</td>\n",
       "      <td>La Bastringue</td>\n",
       "      <td>45.540503</td>\n",
       "      <td>-73.599300</td>\n",
       "      <td>{'Alcohol': 'beer_and_wine', 'Ambience': \"{'ro...</td>\n",
       "      <td>Breakfast &amp; Brunch, Restaurants, French, Sandw...</td>\n",
       "    </tr>\n",
       "    <tr>\n",
       "      <th>3</th>\n",
       "      <td>6OuOZAok8ikONMS_T3EzXg</td>\n",
       "      <td>Thai One On</td>\n",
       "      <td>43.712946</td>\n",
       "      <td>-79.632763</td>\n",
       "      <td>{'Alcohol': 'none', 'BusinessAcceptsCreditCard...</td>\n",
       "      <td>Restaurants, Thai</td>\n",
       "    </tr>\n",
       "    <tr>\n",
       "      <th>4</th>\n",
       "      <td>8-NRKkPY1UiFXW20WXKiXg</td>\n",
       "      <td>Filiberto's Mexican Food</td>\n",
       "      <td>33.448106</td>\n",
       "      <td>-112.341302</td>\n",
       "      <td>{'Alcohol': 'none', 'Ambience': \"{'romantic': ...</td>\n",
       "      <td>Mexican, Restaurants</td>\n",
       "    </tr>\n",
       "  </tbody>\n",
       "</table>\n",
       "</div>"
      ],
      "text/plain": [
       "              business_id                      name   latitude   longitude  \\\n",
       "0  Apn5Q_b6Nz61Tq4XzPdf9A      Minhas Micro Brewery  51.091813 -114.031675   \n",
       "1  AjEbIBw6ZFfln7ePHha9PA       CK'S BBQ & Catering  35.960734 -114.939821   \n",
       "2  O8S5hYJ1SMc8fA4QBtVujA             La Bastringue  45.540503  -73.599300   \n",
       "3  6OuOZAok8ikONMS_T3EzXg               Thai One On  43.712946  -79.632763   \n",
       "4  8-NRKkPY1UiFXW20WXKiXg  Filiberto's Mexican Food  33.448106 -112.341302   \n",
       "\n",
       "                                          attributes  \\\n",
       "0  {'BikeParking': 'False', 'BusinessAcceptsCredi...   \n",
       "1  {'Alcohol': 'none', 'BikeParking': 'False', 'B...   \n",
       "2  {'Alcohol': 'beer_and_wine', 'Ambience': \"{'ro...   \n",
       "3  {'Alcohol': 'none', 'BusinessAcceptsCreditCard...   \n",
       "4  {'Alcohol': 'none', 'Ambience': \"{'romantic': ...   \n",
       "\n",
       "                                          categories  \n",
       "0  Tours, Breweries, Pizza, Restaurants, Food, Ho...  \n",
       "1  Chicken Wings, Burgers, Caterers, Street Vendo...  \n",
       "2  Breakfast & Brunch, Restaurants, French, Sandw...  \n",
       "3                                  Restaurants, Thai  \n",
       "4                               Mexican, Restaurants  "
      ]
     },
     "execution_count": 36,
     "metadata": {},
     "output_type": "execute_result"
    }
   ],
   "source": [
    "businesses.head()"
   ]
  },
  {
   "cell_type": "code",
   "execution_count": 10,
   "metadata": {},
   "outputs": [
    {
     "name": "stdout",
     "output_type": "stream",
     "text": [
      "<class 'pandas.core.frame.DataFrame'>\n",
      "RangeIndex: 100000 entries, 0 to 99999\n",
      "Data columns (total 3 columns):\n",
      "user_id        100000 non-null object\n",
      "business_id    100000 non-null object\n",
      "stars          100000 non-null int64\n",
      "dtypes: int64(1), object(2)\n",
      "memory usage: 2.3+ MB\n"
     ]
    }
   ],
   "source": [
    "reviews = reviews[:100000]  # for now, let's work with a pruned dataset\n",
    "reviews.info()"
   ]
  },
  {
   "cell_type": "code",
   "execution_count": 11,
   "metadata": {},
   "outputs": [
    {
     "data": {
      "text/plain": [
       "user_id        13429\n",
       "business_id    41006\n",
       "stars              5\n",
       "dtype: int64"
      ]
     },
     "execution_count": 11,
     "metadata": {},
     "output_type": "execute_result"
    }
   ],
   "source": [
    "reviews.head()\n",
    "reviews.nunique()  # how many distinct users and items?"
   ]
  },
  {
   "cell_type": "code",
   "execution_count": 12,
   "metadata": {},
   "outputs": [
    {
     "data": {
      "text/html": [
       "<div>\n",
       "<style scoped>\n",
       "    .dataframe tbody tr th:only-of-type {\n",
       "        vertical-align: middle;\n",
       "    }\n",
       "\n",
       "    .dataframe tbody tr th {\n",
       "        vertical-align: top;\n",
       "    }\n",
       "\n",
       "    .dataframe thead th {\n",
       "        text-align: right;\n",
       "    }\n",
       "</style>\n",
       "<table border=\"1\" class=\"dataframe\">\n",
       "  <thead>\n",
       "    <tr style=\"text-align: right;\">\n",
       "      <th></th>\n",
       "      <th>user_id</th>\n",
       "      <th>name</th>\n",
       "      <th>review_count</th>\n",
       "    </tr>\n",
       "  </thead>\n",
       "  <tbody>\n",
       "    <tr>\n",
       "      <th>0</th>\n",
       "      <td>rMkz1mjevjl8xqrypZwHzw</td>\n",
       "      <td>Daniel</td>\n",
       "      <td>84</td>\n",
       "    </tr>\n",
       "    <tr>\n",
       "      <th>1</th>\n",
       "      <td>mN1eee0_j-dglmm57NAf3w</td>\n",
       "      <td>j</td>\n",
       "      <td>163</td>\n",
       "    </tr>\n",
       "    <tr>\n",
       "      <th>2</th>\n",
       "      <td>68qmfoSUXpPUaXz_VEyqzA</td>\n",
       "      <td>Mary</td>\n",
       "      <td>32</td>\n",
       "    </tr>\n",
       "    <tr>\n",
       "      <th>3</th>\n",
       "      <td>ZQ8ZXepUHhT-RB-THcCzEw</td>\n",
       "      <td>M</td>\n",
       "      <td>85</td>\n",
       "    </tr>\n",
       "    <tr>\n",
       "      <th>4</th>\n",
       "      <td>8C5396Ory3qaO-5Lsix_CQ</td>\n",
       "      <td>jason</td>\n",
       "      <td>25</td>\n",
       "    </tr>\n",
       "  </tbody>\n",
       "</table>\n",
       "</div>"
      ],
      "text/plain": [
       "                  user_id    name  review_count\n",
       "0  rMkz1mjevjl8xqrypZwHzw  Daniel            84\n",
       "1  mN1eee0_j-dglmm57NAf3w       j           163\n",
       "2  68qmfoSUXpPUaXz_VEyqzA    Mary            32\n",
       "3  ZQ8ZXepUHhT-RB-THcCzEw       M            85\n",
       "4  8C5396Ory3qaO-5Lsix_CQ   jason            25"
      ]
     },
     "execution_count": 12,
     "metadata": {},
     "output_type": "execute_result"
    }
   ],
   "source": [
    "users.head()"
   ]
  },
  {
   "cell_type": "code",
   "execution_count": 37,
   "metadata": {},
   "outputs": [],
   "source": [
    "# Let's try this again, except this time only with reviews from Las Vegas\n",
    "businesses_lv = pd.read_csv(\"businesses_lv.csv\")\n",
    "reviews_lv = pd.read_csv(\"reviews_lv.csv\")"
   ]
  },
  {
   "cell_type": "code",
   "execution_count": 14,
   "metadata": {},
   "outputs": [
    {
     "name": "stdout",
     "output_type": "stream",
     "text": [
      "272159\n"
     ]
    }
   ],
   "source": [
    "# so we don't have to change all the code further down\n",
    "reviews = reviews_lv\n",
    "\n",
    "# Let's re-filter reviews so only users with at least 10 reviews show up\n",
    "reviews = reviews.groupby('user_id').filter(lambda x: len(x) >= 20)\n",
    "# reviews['user_id'].value_counts()  # double check this worked\n",
    "print (len(reviews))"
   ]
  },
  {
   "cell_type": "code",
   "execution_count": 15,
   "metadata": {},
   "outputs": [],
   "source": [
    "# https://surprise.readthedocs.io/en/stable/getting_started.html#load-from-df-example\n",
    "# Per surprise documentation, the data must be in form of user_id, item_id, rating (i.e. we use reviews)\n",
    "reader = Reader(rating_scale=(1, 5))\n",
    "\n",
    "data = Dataset.load_from_df(reviews, reader)\n",
    "trainset, testset = train_test_split(data, test_size=.2)"
   ]
  },
  {
   "cell_type": "code",
   "execution_count": 16,
   "metadata": {},
   "outputs": [
    {
     "name": "stdout",
     "output_type": "stream",
     "text": [
      "Computing the cosine similarity matrix...\n",
      "Done computing similarity matrix.\n",
      "Took 15.972065210342407 seconds\n"
     ]
    }
   ],
   "source": [
    "# User-based collab filtering\n",
    "time1 = time.time()\n",
    "algo_user = KNNWithMeans(sim_options={'name': 'cosine', 'user_based': True})\n",
    "algo_user.fit(trainset)\n",
    "\n",
    "# how long did this take?\n",
    "time2 = time.time()\n",
    "print (f\"Took {time2 - time1} seconds\")  # took roughly ~20 seconds on reduced training set"
   ]
  },
  {
   "cell_type": "code",
   "execution_count": 28,
   "metadata": {},
   "outputs": [
    {
     "name": "stdout",
     "output_type": "stream",
     "text": [
      "user: 0pf5VuzE4_1pwj5NJHG5TQ item: vsFFbN71ehRCp46KeR5RdQ r_ui = 5.00   est = 4.13   {'actual_k': 12, 'was_impossible': False}\n",
      "user: 0pf5VuzE4_1pwj5NJHG5TQ item: yGZtG3KpoXyvF6gUC0FExQ r_ui = 2.00   est = 2.00   {'actual_k': 1, 'was_impossible': False}\n"
     ]
    }
   ],
   "source": [
    "uid = \"0pf5VuzE4_1pwj5NJHG5TQ\"  # raw user id\n",
    "iid = \"vsFFbN71ehRCp46KeR5RdQ\"  # raw item id\n",
    "iid2 = \"yGZtG3KpoXyvF6gUC0FExQ\"\n",
    "\n",
    "# randomly make some predictions, just to see\n",
    "pred = algo_user.predict(uid, iid, r_ui=5, verbose=True)\n",
    "pred = algo_user.predict(uid, iid2, r_ui=2, verbose=True)"
   ]
  },
  {
   "cell_type": "code",
   "execution_count": 17,
   "metadata": {},
   "outputs": [
    {
     "name": "stdout",
     "output_type": "stream",
     "text": [
      "User-based Model : Test Set\n",
      "RMSE: 1.0850\n"
     ]
    },
    {
     "data": {
      "text/plain": [
       "1.085026131982119"
      ]
     },
     "execution_count": 17,
     "metadata": {},
     "output_type": "execute_result"
    }
   ],
   "source": [
    "test_pred_user = algo_user.test(testset)\n",
    "print(\"User-based Model : Test Set\")\n",
    "accuracy.rmse(test_pred_user, verbose=True)"
   ]
  },
  {
   "cell_type": "code",
   "execution_count": 18,
   "metadata": {},
   "outputs": [
    {
     "name": "stdout",
     "output_type": "stream",
     "text": [
      "Computing the cosine similarity matrix...\n",
      "Done computing similarity matrix.\n",
      "Took 10.129841804504395 seconds\n"
     ]
    }
   ],
   "source": [
    "# Item-based collab filtering\n",
    "time1 = time.time()\n",
    "algo_item = KNNWithMeans(sim_options={'name': 'cosine', 'user_based': False})\n",
    "algo_item.fit(trainset)\n",
    "\n",
    "# how long did this take?\n",
    "time2 = time.time()\n",
    "print (f\"Took {time2 - time1} seconds\")  # took roughly 3 minutes on reduced training set"
   ]
  },
  {
   "cell_type": "code",
   "execution_count": 12,
   "metadata": {},
   "outputs": [
    {
     "name": "stdout",
     "output_type": "stream",
     "text": [
      "user: 0pf5VuzE4_1pwj5NJHG5TQ item: vsFFbN71ehRCp46KeR5RdQ r_ui = 5.00   est = 3.77   {'was_impossible': True, 'reason': 'User and/or item is unkown.'}\n",
      "user: 0pf5VuzE4_1pwj5NJHG5TQ item: yGZtG3KpoXyvF6gUC0FExQ r_ui = 2.00   est = 3.77   {'was_impossible': True, 'reason': 'User and/or item is unkown.'}\n"
     ]
    }
   ],
   "source": [
    "uid = \"0pf5VuzE4_1pwj5NJHG5TQ\"  # raw user id\n",
    "iid = \"vsFFbN71ehRCp46KeR5RdQ\"  # raw item id\n",
    "iid2 = \"yGZtG3KpoXyvF6gUC0FExQ\"\n",
    "\n",
    "# randomly make some predictions, just to see\n",
    "pred = algo_item.predict(uid, iid, r_ui=5, verbose=True)\n",
    "pred = algo_item.predict(uid, iid2, r_ui=2, verbose=True)"
   ]
  },
  {
   "cell_type": "code",
   "execution_count": 20,
   "metadata": {},
   "outputs": [
    {
     "name": "stdout",
     "output_type": "stream",
     "text": [
      "Item-based Model : Test Set\n",
      "RMSE: 1.0737\n"
     ]
    },
    {
     "data": {
      "text/plain": [
       "1.0736711098664622"
      ]
     },
     "execution_count": 20,
     "metadata": {},
     "output_type": "execute_result"
    }
   ],
   "source": [
    "test_pred_item = algo_item.test(testset)\n",
    "print(\"Item-based Model : Test Set\")\n",
    "accuracy.rmse(test_pred_item, verbose=True)"
   ]
  },
  {
   "cell_type": "code",
   "execution_count": 21,
   "metadata": {},
   "outputs": [
    {
     "name": "stdout",
     "output_type": "stream",
     "text": [
      "Computing the msd similarity matrix...\n",
      "Done computing similarity matrix.\n",
      "Took 3.32419490814209 seconds\n",
      "Item-based Model : Test Set\n",
      "RMSE: 1.0791\n"
     ]
    },
    {
     "data": {
      "text/plain": [
       "1.0790652526119944"
      ]
     },
     "execution_count": 21,
     "metadata": {},
     "output_type": "execute_result"
    }
   ],
   "source": [
    "# Let's try fitting item-item with a bunch of other types of similarity\n",
    "# Item-based collab filtering\n",
    "time1 = time.time()\n",
    "algo_item = KNNWithMeans(sim_options={'name': 'msd', 'user_based': False})\n",
    "algo_item.fit(trainset)\n",
    "\n",
    "# how long did this take?\n",
    "time2 = time.time()\n",
    "print (f\"Took {time2 - time1} seconds\")  # took roughly 3 minutes on reduced training set\n",
    "\n",
    "test_pred = algo_item.test(testset)\n",
    "print(\"Item-based Model : Test Set\")\n",
    "accuracy.rmse(test_pred, verbose=True)"
   ]
  },
  {
   "cell_type": "code",
   "execution_count": 22,
   "metadata": {},
   "outputs": [
    {
     "name": "stdout",
     "output_type": "stream",
     "text": [
      "1.0683663051350372\n"
     ]
    }
   ],
   "source": [
    "def rmse(predictions, targets):\n",
    "    return np.sqrt(((predictions - targets) ** 2).mean())\n",
    "\n",
    "# Let's try an ensemble approach of averaging the results from user and item-based filtering\n",
    "predictions = []\n",
    "targets = []\n",
    "for i in range(len(test_pred_item)):\n",
    "    assert(test_pred_item[i].uid == test_pred_user[i].uid and test_pred_item[i].iid == test_pred_user[i].iid)\n",
    "    new_pred = (test_pred_item[i].est + test_pred_user[i].est) / 2\n",
    "    predictions.append(new_pred)\n",
    "    targets.append(test_pred_item[i].r_ui)\n",
    "# test_pred_item[0].est\n",
    "# test_pred_user[0]\n",
    "\n",
    "print (rmse(np.array(predictions), np.array(targets)))"
   ]
  },
  {
   "cell_type": "code",
   "execution_count": 40,
   "metadata": {},
   "outputs": [
    {
     "name": "stdout",
     "output_type": "stream",
     "text": [
      "1.0656340416262176\n",
      "{'n_factors': 5, 'n_epochs': 10, 'lr_all': 0.005, 'reg_all': 0.4}\n"
     ]
    }
   ],
   "source": [
    "# Matrix factorization method!\n",
    "# Find best params\n",
    "param_grid = {'n_factors': [5, 10], 'n_epochs': [5, 10], 'lr_all': [0.002, 0.005], 'reg_all': [0.4, 0.6]}\n",
    "gs = GridSearchCV(SVD, param_grid, measures=['rmse', 'mae'], cv=3)\n",
    "gs.fit(data)\n",
    "algo_svd = gs.best_estimator['rmse']\n",
    "print(gs.best_score['rmse'])\n",
    "print(gs.best_params['rmse'])"
   ]
  },
  {
   "cell_type": "code",
   "execution_count": 43,
   "metadata": {},
   "outputs": [
    {
     "name": "stdout",
     "output_type": "stream",
     "text": [
      "Took 3.8218002319335938 seconds\n",
      "Matrix factorization Model : Test Set\n",
      "RMSE: 1.0671\n"
     ]
    },
    {
     "data": {
      "text/plain": [
       "1.06714947250516"
      ]
     },
     "execution_count": 43,
     "metadata": {},
     "output_type": "execute_result"
    }
   ],
   "source": [
    "# Matrix factorization (SVD)\n",
    "time1 = time.time()\n",
    "algo_svd.fit(trainset)\n",
    "\n",
    "# how long did this take?\n",
    "time2 = time.time()\n",
    "print (f\"Took {time2 - time1} seconds\")  # took roughly 3 minutes on reduced training set\n",
    "\n",
    "# Test results\n",
    "test_pred_svd = algo_svd.test(testset)\n",
    "print(\"Matrix factorization Model : Test Set\")\n",
    "accuracy.rmse(test_pred, verbose=True)"
   ]
  },
  {
   "cell_type": "code",
   "execution_count": 44,
   "metadata": {},
   "outputs": [
    {
     "name": "stdout",
     "output_type": "stream",
     "text": [
      "1.0584211860434445\n"
     ]
    }
   ],
   "source": [
    "# Let's try an ensemble approach of averaging the results from all three methods\n",
    "predictions = []\n",
    "targets = []\n",
    "for i in range(len(test_pred_item)):\n",
    "    assert(test_pred_item[i].uid == test_pred_user[i].uid and test_pred_item[i].iid == test_pred_user[i].iid)\n",
    "    new_pred = (test_pred_item[i].est + test_pred_user[i].est + test_pred_svd[i].est) / 3\n",
    "    predictions.append(new_pred)\n",
    "    targets.append(test_pred_item[i].r_ui)\n",
    "\n",
    "print (rmse(np.array(predictions), np.array(targets)))"
   ]
  },
  {
   "cell_type": "code",
   "execution_count": null,
   "metadata": {},
   "outputs": [],
   "source": []
  }
 ],
 "metadata": {
  "kernelspec": {
   "display_name": "Python 3",
   "language": "python",
   "name": "python3"
  },
  "language_info": {
   "codemirror_mode": {
    "name": "ipython",
    "version": 3
   },
   "file_extension": ".py",
   "mimetype": "text/x-python",
   "name": "python",
   "nbconvert_exporter": "python",
   "pygments_lexer": "ipython3",
   "version": "3.6.6"
  }
 },
 "nbformat": 4,
 "nbformat_minor": 2
}
